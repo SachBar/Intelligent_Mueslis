{
 "cells": [
  {
   "cell_type": "markdown",
   "metadata": {},
   "source": [
    "# Nutritional values summary\n",
    "\n",
    "This notebook computes and visualizes the nutritional composition of selected amounts of MuesliMaker ingredients. "
   ]
  },
  {
   "cell_type": "code",
   "execution_count": 4,
   "metadata": {
    "ExecuteTime": {
     "end_time": "2018-11-21T23:50:25.813252Z",
     "start_time": "2018-11-21T23:50:23.995825Z"
    }
   },
   "outputs": [],
   "source": [
    "import matplotlib.pyplot as plt\n",
    "import seaborn as sns\n",
    "sns.set(style=\"whitegrid\")\n",
    "sns.set_palette(\"husl\")\n",
    "import numpy as np\n",
    "import pandas as pd"
   ]
  },
  {
   "cell_type": "markdown",
   "metadata": {},
   "source": [
    "The dictionary of nutritional values (nv) for the 20 selected ingredients is arranged in the following manner:\n",
    "\n",
    "{ingredient : [list of nutritional values per 100g], ...}\n",
    "  \n",
    "  \n",
    "The list itself is encoded as follows:\n",
    "\n",
    "- 0: kcal\n",
    "- 1: fat\n",
    "- 2: saturated fat\n",
    "- 3: carbs\n",
    "- 4: fiber\n",
    "- 5: sugar\n",
    "- 6: protein\n",
    "\n",
    "Values according to https://www.nutritionvalue.org/"
   ]
  },
  {
   "cell_type": "code",
   "execution_count": 18,
   "metadata": {
    "ExecuteTime": {
     "end_time": "2018-11-21T23:56:18.235949Z",
     "start_time": "2018-11-21T23:56:18.197347Z"
    }
   },
   "outputs": [],
   "source": [
    "# categories\n",
    "categories = {'cereals':['Oats', 'Cornflakes', 'Crunchy'],\n",
    "              'nuts':['Peanuts', 'Almonds', 'Walnuts', 'Macadamia', 'Pecan nuts', 'Cashews'],\n",
    "              'seeds':['Chia seeds', 'Sunflower seeds', 'Pumpkin seeds'],\n",
    "              'toppings':['Raisins' ,'Coconut flakes', 'Cocoa beans'],\n",
    "              'powders':['Protein powder', 'Cacao'],\n",
    "              'spices':['Cinnamon', 'Vanilla']}\n",
    "\n",
    "# nutritional values\n",
    "nv = {'Oats':[389, 6.9, 1.2, 66, 11, 0, 17], \n",
    "      'Cornflakes':[367, 0.4, 0.1, 84, 1.2, 9.3, 7.5], \n",
    "      'Crunchy':[482, 22, 11.1, 60, 5.8, 19.1, 8], \n",
    "      'Peanuts': [567, 49, 6.3, 16, 8.5, 4.7, 26], \n",
    "      'Almonds': [579, 50, 3.8, 22, 13, 4.4, 21], \n",
    "      'Walnuts': [654, 65, 6.1, 14, 6.7, 2.6, 15], \n",
    "      'Macadamia':[718, 76, 12, 14, 8.6, 4.6, 7.9], \n",
    "      'Pecan nuts':[691, 72, 6.2, 14, 9.6, 4, 9.2], \n",
    "      'Cashews':[553, 44, 7.8, 30, 3.3, 5.9, 18], \n",
    "      'Chia seeds':[486, 31, 3.3, 42, 34, 0, 17], \n",
    "      'Sunflower seeds':[582, 50, 5.2, 24, 11, 2.7, 19], \n",
    "      'Pumpkin seeds':[559, 49, 8.7, 11, 6, 1.4, 30], \n",
    "      'Raisins':[299, 0.5, 0.1, 79, 3.7, 59, 3.1], \n",
    "      'Coconut flakes':[671, 67, 57.5, 24, 16.8, 7.7, 7.2],\n",
    "      'Cocoa beans':[600, 45.9, 28.2, 31.7, 31.7, 0, 14.1],\n",
    "      'Protein powder':[359, 1.2, 0.6, 29, 0, 1.2, 58],\n",
    "      'Cacao':[380, 3, 1, 80, 6, 77, 5], \n",
    "      'Cinnamon':[0, 0, 0, 0, 0, 0, 0], \n",
    "      'Vanilla':[0, 0, 0, 0, 0, 0, 0], \n",
    "      'Dry fruit':[247, 0, 0, 63.5, 7.1, 28.2, 3.5]}"
   ]
  },
  {
   "cell_type": "code",
   "execution_count": 7,
   "metadata": {
    "ExecuteTime": {
     "end_time": "2018-11-21T23:50:35.897190Z",
     "start_time": "2018-11-21T23:50:35.881590Z"
    }
   },
   "outputs": [],
   "source": [
    "def todict(a):\n",
    "    if len(a) != len(nv):\n",
    "        print('Cannot convert given list to dictionary.\\n'+\n",
    "             'Expected list of length', len(keys), 'but got a list of length', len(a), 'instead.')\n",
    "    else:\n",
    "        dictionary = dict(zip(nv.keys(), a))\n",
    "    return(dictionary)"
   ]
  },
  {
   "cell_type": "code",
   "execution_count": 8,
   "metadata": {
    "ExecuteTime": {
     "end_time": "2018-11-21T23:50:41.222507Z",
     "start_time": "2018-11-21T23:50:41.206907Z"
    }
   },
   "outputs": [],
   "source": [
    "# the ingredients list contains the amount of ingredients in gram, acoording to customer selection\n",
    "ingredients = [70, 0, 0, 10, 10, 5, 0, 20, 0, 5, 5, 0, 0, 0, 10, 0, 0, 1, 1, 10]\n",
    "grams = todict(ingredients)\n",
    "\n",
    "# a dictionary of only selected ingredients:\n",
    "selected = dict((k, v) for k, v in grams.items() if v > 0)"
   ]
  },
  {
   "cell_type": "code",
   "execution_count": 9,
   "metadata": {
    "ExecuteTime": {
     "end_time": "2018-11-21T23:50:45.661226Z",
     "start_time": "2018-11-21T23:50:45.378218Z"
    }
   },
   "outputs": [
    {
     "name": "stdout",
     "output_type": "stream",
     "text": [
      "Nutritional information about your meal:\n"
     ]
    },
    {
     "data": {
      "text/plain": [
       "{'Oats': 70,\n",
       " 'Peanuts': 10,\n",
       " 'Almonds': 10,\n",
       " 'Walnuts': 5,\n",
       " 'Pecan nuts': 20,\n",
       " 'Chia seeds': 5,\n",
       " 'Sunflower seeds': 5,\n",
       " 'Cocoa beans': 10,\n",
       " 'Cinnamon': 1,\n",
       " 'Vanilla': 1,\n",
       " 'Dry fruit': 10}"
      ]
     },
     "execution_count": 9,
     "metadata": {},
     "output_type": "execute_result"
    },
    {
     "data": {
      "image/png": "[encoded data removed]",
      "text/plain": [
       "<Figure size 576x360 with 1 Axes>"
      ]
     },
     "metadata": {},
     "output_type": "display_data"
    }
   ],
   "source": [
    "meal_comp = []\n",
    "for ingredient in nv.keys():\n",
    "    meal_comp.append(np.array(nv[ingredient])*grams[ingredient]/100)\n",
    "\n",
    "meal = np.asarray(meal_comp).sum(axis=0)\n",
    "\n",
    "# plot results\n",
    "fig, ax = plt.subplots(figsize=(8,5))\n",
    "index = ['Fat', 'Saturated Fat', 'Carbs', 'Fiber', 'Sugar', 'Protein']\n",
    "ax = sns.barplot(index, meal[1:]);\n",
    "ax.set(ylabel='Weight of nutritional components [g]', title=('Total energy in this meal: ' + str(round(meal[0])) + ' kcal'));\n",
    "\n",
    "print('Nutritional information about your meal:')\n",
    "selected"
   ]
  },
  {
   "cell_type": "code",
   "execution_count": null,
   "metadata": {},
   "outputs": [],
   "source": [
    "print('\\nCalories: ', round(meal[0]), 'kcal\\nFat: ', round(meal[1]), 'g\\nSaturated fat:', round(meal[2]), \n",
    "      'g\\nCarbohydrates: ', round(meal[3]), 'g\\nDietary Fiber: ', round(meal[4]), 'g\\nSugar: ', round(meal[5]),\n",
    "      'g\\nProtein: ', round(meal[6]), 'g')"
   ]
  },
  {
   "cell_type": "markdown",
   "metadata": {},
   "source": [
    "# Supply chain optimization\n",
    "\n",
    "Simulates the amount of ingredients that the MuesliMaker has in stock at any given time.\n",
    "\n",
    "First, a function is defined that will 'fill' the storage to maximum capacity."
   ]
  },
  {
   "cell_type": "code",
   "execution_count": 12,
   "metadata": {
    "ExecuteTime": {
     "end_time": "2018-11-21T23:51:29.165752Z",
     "start_time": "2018-11-21T23:51:29.156752Z"
    }
   },
   "outputs": [],
   "source": [
    "# initialize stock first\n",
    "current_stock = {'Oats':10.0, \n",
    "      'Cornflakes':10.0, \n",
    "      'Crunchy':10.0, \n",
    "      'Peanuts': 3.0, \n",
    "      'Almonds': 3.0, \n",
    "      'Walnuts': 2.0, \n",
    "      'Macadamia':2.0, \n",
    "      'Pecan nuts':2.0, \n",
    "      'Cashews':3.0, \n",
    "      'Chia seeds':2.0, \n",
    "      'Sunflower seeds':2.0, \n",
    "      'Pumpkin seeds':2.0, \n",
    "      'Raisins':4.0, \n",
    "      'Coconut flakes':2.0,\n",
    "      'Cocoa beans':2.0,\n",
    "      'Protein powder':2.0,\n",
    "      'Cacao':2.0, \n",
    "      'Cinnamon':0.2, \n",
    "      'Vanilla':0.2, \n",
    "      'Dry fruit':3.0}"
   ]
  },
  {
   "cell_type": "code",
   "execution_count": 15,
   "metadata": {
    "ExecuteTime": {
     "end_time": "2018-11-21T23:52:04.197735Z",
     "start_time": "2018-11-21T23:52:04.166535Z"
    }
   },
   "outputs": [],
   "source": [
    "def fill():\n",
    "    current_stock.update({'Oats':10.0, \n",
    "      'Cornflakes':10.0, \n",
    "      'Crunchy':10.0, \n",
    "      'Peanuts': 3.0, \n",
    "      'Almonds': 3.0, \n",
    "      'Walnuts': 2.0, \n",
    "      'Macadamia':2.0, \n",
    "      'Pecan nuts':2.0, \n",
    "      'Cashews':3.0, \n",
    "      'Chia seeds':2.0, \n",
    "      'Sunflower seeds':2.0, \n",
    "      'Pumpkin seeds':2.0, \n",
    "      'Raisins':4.0, \n",
    "      'Coconut flakes':2.0,\n",
    "      'Cocoa beans':2.0,\n",
    "      'Protein powder':2.0,\n",
    "      'Cacao':2.0, \n",
    "      'Cinnamon':0.2, \n",
    "      'Vanilla':0.2, \n",
    "      'Dry fruit':3.0})\n",
    "    print('Machine refilled. Current stock:')\n",
    "    return current_stock"
   ]
  },
  {
   "cell_type": "markdown",
   "metadata": {},
   "source": [
    "Next, an ``order`` function is defined that takes a list of ingredients in [g] as input and subtracts it from the current stock.  \n",
    "It will output a warning if certain ingredients are running low and throw an error if the (amount of) ordered ingredient is currently not in stock.  \n",
    "\n",
    "In addition, it will suggest an alternative according to (preferences and/or) ingredient similarity and which of the similar ingredients are most abundant in stock."
   ]
  },
  {
   "cell_type": "code",
   "execution_count": null,
   "metadata": {
    "ExecuteTime": {
     "start_time": "2018-11-22T12:19:29.761Z"
    }
   },
   "outputs": [],
   "source": [
    "get_alternative('Cornflakes')"
   ]
  },
  {
   "cell_type": "code",
   "execution_count": 44,
   "metadata": {
    "ExecuteTime": {
     "end_time": "2018-11-22T00:17:08.291609Z",
     "start_time": "2018-11-22T00:17:08.260409Z"
    }
   },
   "outputs": [],
   "source": [
    "def get_alternative(ingredient, ingredients):\n",
    "    # order and current stock in [kg]:\n",
    "    ing = np.asarray(ingredients)/1000\n",
    "    cs = np.asarray(list(current_stock.values()))\n",
    "    \n",
    "    for cat in categories:\n",
    "        if ingredient in categories[cat]:\n",
    "            df = pd.DataFrame.from_dict(current_stock, orient='index')\n",
    "            # suggest a different ingredient with most supplies in stock as alternative:\n",
    "            # but only if the available alternatives have sufficient stock\n",
    "            \n",
    "            alternative = df.loc[categories[cat]].idxmax()[0]\n",
    "    return alternative\n",
    "\n",
    "\n",
    "def order(ingredients):\n",
    "    # order and current stock in [kg]:\n",
    "    ing = np.asarray(ingredients)/1000\n",
    "    cs = np.asarray(list(current_stock.values()))\n",
    "    \n",
    "# check for order feasibility:\n",
    "    \n",
    "    # 1. portion too big\n",
    "    if ing.sum() > 250:\n",
    "        print('Yay, that\\'s a big portion! ...Unfortunately it probably won\\'t fit into your bowl.',\n",
    "              '\\nIf you\\'re really that hungry: no problem! Feel free to order twice :)')\n",
    "        \n",
    "    # 2. at least one ingredient out of stock (oos)\n",
    "    elif (ing > cs).sum() > 0:\n",
    "        oos = ing > cs\n",
    "        pos_oos = [i for i, x in enumerate(oos) if x]\n",
    "        out_of_stock = []\n",
    "        for j in pos_oos:\n",
    "            out_of_stock.append(list(current_stock.keys())[j])\n",
    "        print('We\\'re sorry, at least one of your ordered ingredients is currently out of stock :(',\n",
    "             '\\nBut hey, that\\'s the perfect opportunity to try something new!')\n",
    "        for x in range(len(out_of_stock)):\n",
    "            \n",
    "            for cat in categories:\n",
    "                if ingredient in categories[cat]:\n",
    "                    df = pd.DataFrame.from_dict(current_stock, orient='index')\n",
    "                    # suggest the ingredient with most supplies in stock as alternative:\n",
    "                    alternative = df.loc[categories[cat]].idxmax()[0]\n",
    "                    \n",
    "            alternative = get_alternative(out_of_stock[x])\n",
    "            print('\\nHow about', alternative, 'instead of', out_of_stock[x], 'today?') \n",
    "            a = input('\\nPress \"y\" if that sounds great to you! \\nCancel the order by pressing any other key.\\n')\n",
    "            \n",
    "    # 2.1 User accepts alternative suggestion -> Order can proceed normally        \n",
    "            if a == 'y':\n",
    "                # update ingredients\n",
    "                \n",
    "                print('Perfect, your order has been updated.')\n",
    "                \n",
    "                ingredients_kg = {k: v / 1000 for k, v in todict(ingredients).items()}\n",
    "                #subtract order from storage\n",
    "                current_stock.update({key: current_stock[key] - ingredients_kg.get(key, 0) for key in current_stock.keys()})\n",
    "\n",
    "                # check for low supplies:\n",
    "                critical = np.fromiter(current_stock.values(), dtype=float) < 0.2\n",
    "                pos_low_supplies = [i for i, x in enumerate(critical) if x]\n",
    "                low_supplies = []\n",
    "                for j in pos_low_supplies:\n",
    "                    low_supplies.append(list(current_stock.keys())[j])\n",
    "                if critical.sum() > 0:\n",
    "                    print('\\nWARNING:')\n",
    "                    for x in range(len(low_supplies)):\n",
    "                        print('Less than 200g of', low_supplies[x], 'in stock!')\n",
    "\n",
    "                print('\\nOrder has been placed. Stock was updated:')\n",
    "                return current_stock\n",
    "                \n",
    "    # 2.2 order is cancelled            \n",
    "            else:\n",
    "                print('We\\'re sorry to hear that :(\\nNew supplies are on the way.')\n",
    "                # get other suggestions? Or cancel order... :(\n",
    "        \n",
    "    # Order can proceed normally:\n",
    "    else:\n",
    "        # convert to dictionary and [kg]\n",
    "        ingredients_kg = {k: v / 1000 for k, v in todict(ingredients).items()}\n",
    "        #subtract order from storage\n",
    "        current_stock.update({key: current_stock[key] - ingredients_kg.get(key, 0) for key in current_stock.keys()})\n",
    "\n",
    "        # check for low supplies:\n",
    "        critical = np.fromiter(current_stock.values(), dtype=float) < 0.2\n",
    "        pos_low_supplies = [i for i, x in enumerate(critical) if x]\n",
    "        low_supplies = []\n",
    "        for j in pos_low_supplies:\n",
    "            low_supplies.append(list(current_stock.keys())[j])\n",
    "        if critical.sum() > 0:\n",
    "            print('\\nWARNING:')\n",
    "            for x in range(len(low_supplies)):\n",
    "                print('Less than 200g of', low_supplies[x], 'in stock!')\n",
    "\n",
    "        print('\\nOrder has been placed. Stock was updated:')\n",
    "        return current_stock"
   ]
  },
  {
   "cell_type": "code",
   "execution_count": null,
   "metadata": {
    "ExecuteTime": {
     "start_time": "2018-11-22T12:17:55.775Z"
    }
   },
   "outputs": [
    {
     "name": "stdout",
     "output_type": "stream",
     "text": [
      "We're sorry, at least one of your ordered ingredients is currently out of stock :( \n",
      "But hey, that's the perfect opportunity to try something new!\n",
      "\n",
      "How about Cinnamon instead of Vanilla today?\n"
     ]
    }
   ],
   "source": [
    "ingredients = [0, 70, 0, 10, 10, 5, 0, 20, 0, 5, 5, 0, 0, 0, 10, 0, 0, 1, 220, 10]\n",
    "\n",
    "order(ingredients)"
   ]
  },
  {
   "cell_type": "code",
   "execution_count": 50,
   "metadata": {
    "ExecuteTime": {
     "end_time": "2018-11-22T12:17:11.072383Z",
     "start_time": "2018-11-22T12:17:11.041183Z"
    }
   },
   "outputs": [
    {
     "name": "stdout",
     "output_type": "stream",
     "text": [
      "Machine refilled. Current stock:\n"
     ]
    },
    {
     "data": {
      "text/plain": [
       "{'Oats': 10.0,\n",
       " 'Cornflakes': 10.0,\n",
       " 'Crunchy': 10.0,\n",
       " 'Peanuts': 3.0,\n",
       " 'Almonds': 3.0,\n",
       " 'Walnuts': 2.0,\n",
       " 'Macadamia': 2.0,\n",
       " 'Pecan nuts': 2.0,\n",
       " 'Cashews': 3.0,\n",
       " 'Chia seeds': 2.0,\n",
       " 'Sunflower seeds': 2.0,\n",
       " 'Pumpkin seeds': 2.0,\n",
       " 'Raisins': 4.0,\n",
       " 'Coconut flakes': 2.0,\n",
       " 'Cocoa beans': 2.0,\n",
       " 'Protein powder': 2.0,\n",
       " 'Cacao': 2.0,\n",
       " 'Cinnamon': 0.2,\n",
       " 'Vanilla': 0.2,\n",
       " 'Dry fruit': 3.0}"
      ]
     },
     "execution_count": 50,
     "metadata": {},
     "output_type": "execute_result"
    }
   ],
   "source": [
    "fill()"
   ]
  },
  {
   "cell_type": "code",
   "execution_count": null,
   "metadata": {},
   "outputs": [],
   "source": []
  }
 ],
 "metadata": {
  "kernelspec": {
   "display_name": "Python 3",
   "language": "python",
   "name": "python3"
  },
  "language_info": {
   "codemirror_mode": {
    "name": "ipython",
    "version": 3
   },
   "file_extension": ".py",
   "mimetype": "text/x-python",
   "name": "python",
   "nbconvert_exporter": "python",
   "pygments_lexer": "ipython3",
   "version": "3.6.5"
  },
  "varInspector": {
   "cols": {
    "lenName": 16,
    "lenType": 16,
    "lenVar": 40
   },
   "kernels_config": {
    "python": {
     "delete_cmd_postfix": "",
     "delete_cmd_prefix": "del ",
     "library": "var_list.py",
     "varRefreshCmd": "print(var_dic_list())"
    },
    "r": {
     "delete_cmd_postfix": ") ",
     "delete_cmd_prefix": "rm(",
     "library": "var_list.r",
     "varRefreshCmd": "cat(var_dic_list()) "
    }
   },
   "types_to_exclude": [
    "module",
    "function",
    "builtin_function_or_method",
    "instance",
    "_Feature"
   ],
   "window_display": false
  }
 },
 "nbformat": 4,
 "nbformat_minor": 2
}
